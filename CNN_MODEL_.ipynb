{
  "nbformat": 4,
  "nbformat_minor": 0,
  "metadata": {
    "colab": {
      "provenance": [],
      "authorship_tag": "ABX9TyPJh9cUGHbJitC2pX+xXSYV",
      "include_colab_link": true
    },
    "kernelspec": {
      "name": "python3",
      "display_name": "Python 3"
    },
    "language_info": {
      "name": "python"
    }
  },
  "cells": [
    {
      "cell_type": "markdown",
      "metadata": {
        "id": "view-in-github",
        "colab_type": "text"
      },
      "source": [
        "<a href=\"https://colab.research.google.com/github/BANOTHSANDEEP5/CNN-model-/blob/main/CNN_MODEL_.ipynb\" target=\"_parent\"><img src=\"https://colab.research.google.com/assets/colab-badge.svg\" alt=\"Open In Colab\"/></a>"
      ]
    },
    {
      "cell_type": "code",
      "execution_count": 137,
      "metadata": {
        "id": "dWvrQu6_x-6U"
      },
      "outputs": [],
      "source": [
        "import pandas as pd\n",
        "import numpy as np\n",
        "from sklearn.model_selection import train_test_split\n",
        "from sklearn.metrics import r2_score\n",
        "from sklearn.preprocessing import MinMaxScaler\n",
        "from tensorflow.keras.models import Sequential\n",
        "from tensorflow.keras.layers import Dense, Conv1D, MaxPooling1D, Flatten, ZeroPadding1D"
      ]
    },
    {
      "cell_type": "code",
      "source": [
        "data = pd.read_csv('data_csv.csv')"
      ],
      "metadata": {
        "id": "eZDxUg7Vx_1R"
      },
      "execution_count": 138,
      "outputs": []
    },
    {
      "cell_type": "code",
      "source": [
        "X = data.drop('Porosity (%)', axis=1)\n",
        "y = data['Porosity (%)']"
      ],
      "metadata": {
        "id": "BDTwygNFzlkw"
      },
      "execution_count": 139,
      "outputs": []
    },
    {
      "cell_type": "code",
      "source": [
        "X = pd.get_dummies(X, columns=['Curing condition'])"
      ],
      "metadata": {
        "id": "Xao4duZY0nO4"
      },
      "execution_count": 140,
      "outputs": []
    },
    {
      "cell_type": "code",
      "source": [
        "X_train, X_test, y_train, y_test = train_test_split(X, y, test_size=0.2, random_state=42)"
      ],
      "metadata": {
        "id": "4fjLQjY8yCzS"
      },
      "execution_count": 141,
      "outputs": []
    },
    {
      "cell_type": "code",
      "source": [
        "scaler = MinMaxScaler()\n",
        "X_train = scaler.fit_transform(X_train)\n",
        "X_test = scaler.transform(X_test)"
      ],
      "metadata": {
        "id": "EmAMRaw90VYw"
      },
      "execution_count": 142,
      "outputs": []
    },
    {
      "cell_type": "code",
      "source": [
        "X_train = X_train.reshape((X_train.shape[0], X_train.shape[1], 1))\n",
        "X_test = X_test.reshape((X_test.shape[0], X_test.shape[1], 1))"
      ],
      "metadata": {
        "id": "Y-6LUBQVyQaB"
      },
      "execution_count": 143,
      "outputs": []
    },
    {
      "cell_type": "code",
      "source": [
        "model = Sequential()\n",
        "model.add(ZeroPadding1D(padding=2, input_shape=(X_train.shape[1], 1)))\n",
        "model.add(Conv1D(filters=64, kernel_size=3, activation='relu'))\n",
        "model.add(MaxPooling1D(pool_size=2))\n",
        "model.add(Conv1D(filters=32, kernel_size=3, activation='relu'))\n",
        "model.add(Flatten())\n",
        "model.add(Dense(units=64, activation='relu'))\n",
        "model.add(Dense(units=1))"
      ],
      "metadata": {
        "id": "NYaoKMkvySCx"
      },
      "execution_count": 144,
      "outputs": []
    },
    {
      "cell_type": "code",
      "source": [
        "model.compile(optimizer='adam', loss='mean_squared_error')"
      ],
      "metadata": {
        "id": "KlvP-VVXyTxJ"
      },
      "execution_count": 145,
      "outputs": []
    },
    {
      "cell_type": "code",
      "source": [
        "model.fit(X_train, y_train, epochs=100, batch_size=32, validation_data=(X_test, y_test), verbose=1)\n"
      ],
      "metadata": {
        "colab": {
          "base_uri": "https://localhost:8080/"
        },
        "id": "o9pVg6PVyVx5",
        "outputId": "de3d75bd-b98e-4a6a-ac21-4ea54acb22d6"
      },
      "execution_count": 150,
      "outputs": [
        {
          "output_type": "stream",
          "name": "stdout",
          "text": [
            "Epoch 1/100\n",
            "7/7 [==============================] - 0s 18ms/step - loss: 3.7209 - val_loss: 4.6555\n",
            "Epoch 2/100\n",
            "7/7 [==============================] - 0s 8ms/step - loss: 3.9240 - val_loss: 5.2892\n",
            "Epoch 3/100\n",
            "7/7 [==============================] - 0s 8ms/step - loss: 3.9491 - val_loss: 4.7519\n",
            "Epoch 4/100\n",
            "7/7 [==============================] - 0s 10ms/step - loss: 5.0916 - val_loss: 5.5162\n",
            "Epoch 5/100\n",
            "7/7 [==============================] - 0s 10ms/step - loss: 3.7447 - val_loss: 5.1390\n",
            "Epoch 6/100\n",
            "7/7 [==============================] - 0s 7ms/step - loss: 3.9254 - val_loss: 4.5834\n",
            "Epoch 7/100\n",
            "7/7 [==============================] - 0s 7ms/step - loss: 3.3538 - val_loss: 4.3446\n",
            "Epoch 8/100\n",
            "7/7 [==============================] - 0s 7ms/step - loss: 3.5607 - val_loss: 4.2202\n",
            "Epoch 9/100\n",
            "7/7 [==============================] - 0s 7ms/step - loss: 3.2921 - val_loss: 4.2228\n",
            "Epoch 10/100\n",
            "7/7 [==============================] - 0s 10ms/step - loss: 3.2934 - val_loss: 4.0599\n",
            "Epoch 11/100\n",
            "7/7 [==============================] - 0s 10ms/step - loss: 3.3379 - val_loss: 4.0394\n",
            "Epoch 12/100\n",
            "7/7 [==============================] - 0s 7ms/step - loss: 3.2121 - val_loss: 4.5059\n",
            "Epoch 13/100\n",
            "7/7 [==============================] - 0s 8ms/step - loss: 4.2969 - val_loss: 4.6215\n",
            "Epoch 14/100\n",
            "7/7 [==============================] - 0s 7ms/step - loss: 3.3101 - val_loss: 4.9413\n",
            "Epoch 15/100\n",
            "7/7 [==============================] - 0s 10ms/step - loss: 3.8019 - val_loss: 4.6193\n",
            "Epoch 16/100\n",
            "7/7 [==============================] - 0s 11ms/step - loss: 3.8771 - val_loss: 5.1418\n",
            "Epoch 17/100\n",
            "7/7 [==============================] - 0s 10ms/step - loss: 3.3965 - val_loss: 4.6805\n",
            "Epoch 18/100\n",
            "7/7 [==============================] - 0s 7ms/step - loss: 3.8182 - val_loss: 4.1597\n",
            "Epoch 19/100\n",
            "7/7 [==============================] - 0s 8ms/step - loss: 3.2746 - val_loss: 4.4269\n",
            "Epoch 20/100\n",
            "7/7 [==============================] - 0s 7ms/step - loss: 3.2532 - val_loss: 4.1193\n",
            "Epoch 21/100\n",
            "7/7 [==============================] - 0s 7ms/step - loss: 3.4097 - val_loss: 4.0227\n",
            "Epoch 22/100\n",
            "7/7 [==============================] - 0s 8ms/step - loss: 3.1298 - val_loss: 4.1366\n",
            "Epoch 23/100\n",
            "7/7 [==============================] - 0s 7ms/step - loss: 3.1109 - val_loss: 4.0968\n",
            "Epoch 24/100\n",
            "7/7 [==============================] - 0s 10ms/step - loss: 3.1727 - val_loss: 4.0813\n",
            "Epoch 25/100\n",
            "7/7 [==============================] - 0s 10ms/step - loss: 3.3138 - val_loss: 4.2315\n",
            "Epoch 26/100\n",
            "7/7 [==============================] - 0s 10ms/step - loss: 3.1423 - val_loss: 4.1891\n",
            "Epoch 27/100\n",
            "7/7 [==============================] - 0s 7ms/step - loss: 3.1984 - val_loss: 4.2132\n",
            "Epoch 28/100\n",
            "7/7 [==============================] - 0s 7ms/step - loss: 3.5119 - val_loss: 4.1186\n",
            "Epoch 29/100\n",
            "7/7 [==============================] - 0s 7ms/step - loss: 3.3033 - val_loss: 4.2592\n",
            "Epoch 30/100\n",
            "7/7 [==============================] - 0s 7ms/step - loss: 3.6424 - val_loss: 3.8283\n",
            "Epoch 31/100\n",
            "7/7 [==============================] - 0s 10ms/step - loss: 3.0426 - val_loss: 4.0519\n",
            "Epoch 32/100\n",
            "7/7 [==============================] - 0s 8ms/step - loss: 2.9885 - val_loss: 3.8232\n",
            "Epoch 33/100\n",
            "7/7 [==============================] - 0s 8ms/step - loss: 2.9858 - val_loss: 3.8194\n",
            "Epoch 34/100\n",
            "7/7 [==============================] - 0s 10ms/step - loss: 2.9753 - val_loss: 3.7665\n",
            "Epoch 35/100\n",
            "7/7 [==============================] - 0s 7ms/step - loss: 3.2075 - val_loss: 3.6282\n",
            "Epoch 36/100\n",
            "7/7 [==============================] - 0s 7ms/step - loss: 3.0086 - val_loss: 3.6623\n",
            "Epoch 37/100\n",
            "7/7 [==============================] - 0s 10ms/step - loss: 3.0682 - val_loss: 3.5503\n",
            "Epoch 38/100\n",
            "7/7 [==============================] - 0s 7ms/step - loss: 3.0694 - val_loss: 3.5117\n",
            "Epoch 39/100\n",
            "7/7 [==============================] - 0s 7ms/step - loss: 3.1479 - val_loss: 3.4264\n",
            "Epoch 40/100\n",
            "7/7 [==============================] - 0s 7ms/step - loss: 2.9291 - val_loss: 3.7976\n",
            "Epoch 41/100\n",
            "7/7 [==============================] - 0s 10ms/step - loss: 3.3381 - val_loss: 3.5371\n",
            "Epoch 42/100\n",
            "7/7 [==============================] - 0s 8ms/step - loss: 2.8912 - val_loss: 3.4607\n",
            "Epoch 43/100\n",
            "7/7 [==============================] - 0s 7ms/step - loss: 3.0610 - val_loss: 3.8110\n",
            "Epoch 44/100\n",
            "7/7 [==============================] - 0s 10ms/step - loss: 2.9154 - val_loss: 3.6810\n",
            "Epoch 45/100\n",
            "7/7 [==============================] - 0s 7ms/step - loss: 2.9716 - val_loss: 3.7520\n",
            "Epoch 46/100\n",
            "7/7 [==============================] - 0s 7ms/step - loss: 3.0570 - val_loss: 3.5913\n",
            "Epoch 47/100\n",
            "7/7 [==============================] - 0s 8ms/step - loss: 3.0769 - val_loss: 4.3873\n",
            "Epoch 48/100\n",
            "7/7 [==============================] - 0s 10ms/step - loss: 3.0381 - val_loss: 3.4626\n",
            "Epoch 49/100\n",
            "7/7 [==============================] - 0s 10ms/step - loss: 3.5022 - val_loss: 3.3462\n",
            "Epoch 50/100\n",
            "7/7 [==============================] - 0s 10ms/step - loss: 3.0045 - val_loss: 3.6332\n",
            "Epoch 51/100\n",
            "7/7 [==============================] - 0s 7ms/step - loss: 2.9198 - val_loss: 3.4368\n",
            "Epoch 52/100\n",
            "7/7 [==============================] - 0s 7ms/step - loss: 3.3517 - val_loss: 3.1567\n",
            "Epoch 53/100\n",
            "7/7 [==============================] - 0s 7ms/step - loss: 2.9439 - val_loss: 3.3787\n",
            "Epoch 54/100\n",
            "7/7 [==============================] - 0s 7ms/step - loss: 2.8325 - val_loss: 3.1912\n",
            "Epoch 55/100\n",
            "7/7 [==============================] - 0s 7ms/step - loss: 3.4268 - val_loss: 3.1725\n",
            "Epoch 56/100\n",
            "7/7 [==============================] - 0s 8ms/step - loss: 2.8828 - val_loss: 3.1272\n",
            "Epoch 57/100\n",
            "7/7 [==============================] - 0s 7ms/step - loss: 2.9776 - val_loss: 3.1522\n",
            "Epoch 58/100\n",
            "7/7 [==============================] - 0s 7ms/step - loss: 3.0294 - val_loss: 3.0128\n",
            "Epoch 59/100\n",
            "7/7 [==============================] - 0s 10ms/step - loss: 2.9053 - val_loss: 2.9836\n",
            "Epoch 60/100\n",
            "7/7 [==============================] - 0s 7ms/step - loss: 2.9113 - val_loss: 3.0110\n",
            "Epoch 61/100\n",
            "7/7 [==============================] - 0s 7ms/step - loss: 2.8264 - val_loss: 3.0734\n",
            "Epoch 62/100\n",
            "7/7 [==============================] - 0s 7ms/step - loss: 2.7710 - val_loss: 3.0989\n",
            "Epoch 63/100\n",
            "7/7 [==============================] - 0s 10ms/step - loss: 2.7741 - val_loss: 3.1128\n",
            "Epoch 64/100\n",
            "7/7 [==============================] - 0s 12ms/step - loss: 2.7860 - val_loss: 3.2995\n",
            "Epoch 65/100\n",
            "7/7 [==============================] - 0s 14ms/step - loss: 2.8371 - val_loss: 3.2498\n",
            "Epoch 66/100\n",
            "7/7 [==============================] - 0s 12ms/step - loss: 2.7785 - val_loss: 3.1063\n",
            "Epoch 67/100\n",
            "7/7 [==============================] - 0s 13ms/step - loss: 2.7102 - val_loss: 3.5093\n",
            "Epoch 68/100\n",
            "7/7 [==============================] - 0s 13ms/step - loss: 2.8438 - val_loss: 3.1669\n",
            "Epoch 69/100\n",
            "7/7 [==============================] - 0s 11ms/step - loss: 2.9012 - val_loss: 3.1488\n",
            "Epoch 70/100\n",
            "7/7 [==============================] - 0s 13ms/step - loss: 2.7578 - val_loss: 4.2668\n",
            "Epoch 71/100\n",
            "7/7 [==============================] - 0s 12ms/step - loss: 4.2517 - val_loss: 3.7934\n",
            "Epoch 72/100\n",
            "7/7 [==============================] - 0s 12ms/step - loss: 3.0430 - val_loss: 3.9398\n",
            "Epoch 73/100\n",
            "7/7 [==============================] - 0s 10ms/step - loss: 3.1257 - val_loss: 4.4943\n",
            "Epoch 74/100\n",
            "7/7 [==============================] - 0s 10ms/step - loss: 3.1574 - val_loss: 3.7421\n",
            "Epoch 75/100\n",
            "7/7 [==============================] - 0s 12ms/step - loss: 3.0357 - val_loss: 3.5668\n",
            "Epoch 76/100\n",
            "7/7 [==============================] - 0s 11ms/step - loss: 3.1422 - val_loss: 4.2199\n",
            "Epoch 77/100\n",
            "7/7 [==============================] - 0s 10ms/step - loss: 2.9237 - val_loss: 3.4825\n",
            "Epoch 78/100\n",
            "7/7 [==============================] - 0s 12ms/step - loss: 3.0173 - val_loss: 3.8177\n",
            "Epoch 79/100\n",
            "7/7 [==============================] - 0s 13ms/step - loss: 3.5864 - val_loss: 3.8385\n",
            "Epoch 80/100\n",
            "7/7 [==============================] - 0s 12ms/step - loss: 2.7696 - val_loss: 3.5978\n",
            "Epoch 81/100\n",
            "7/7 [==============================] - 0s 10ms/step - loss: 3.3747 - val_loss: 3.2579\n",
            "Epoch 82/100\n",
            "7/7 [==============================] - 0s 14ms/step - loss: 2.6482 - val_loss: 4.0805\n",
            "Epoch 83/100\n",
            "7/7 [==============================] - 0s 13ms/step - loss: 3.5466 - val_loss: 3.4738\n",
            "Epoch 84/100\n",
            "7/7 [==============================] - 0s 13ms/step - loss: 3.1547 - val_loss: 3.7668\n",
            "Epoch 85/100\n",
            "7/7 [==============================] - 0s 10ms/step - loss: 3.1384 - val_loss: 4.4749\n",
            "Epoch 86/100\n",
            "7/7 [==============================] - 0s 11ms/step - loss: 2.7010 - val_loss: 3.6683\n",
            "Epoch 87/100\n",
            "7/7 [==============================] - 0s 14ms/step - loss: 3.2222 - val_loss: 3.6038\n",
            "Epoch 88/100\n",
            "7/7 [==============================] - 0s 14ms/step - loss: 3.6336 - val_loss: 4.7854\n",
            "Epoch 89/100\n",
            "7/7 [==============================] - 0s 14ms/step - loss: 2.9256 - val_loss: 4.0913\n",
            "Epoch 90/100\n",
            "7/7 [==============================] - 0s 14ms/step - loss: 3.1845 - val_loss: 3.6495\n",
            "Epoch 91/100\n",
            "7/7 [==============================] - 0s 16ms/step - loss: 2.6790 - val_loss: 3.4206\n",
            "Epoch 92/100\n",
            "7/7 [==============================] - 0s 11ms/step - loss: 2.6887 - val_loss: 3.4351\n",
            "Epoch 93/100\n",
            "7/7 [==============================] - 0s 8ms/step - loss: 2.6698 - val_loss: 3.3011\n",
            "Epoch 94/100\n",
            "7/7 [==============================] - 0s 11ms/step - loss: 2.6425 - val_loss: 3.3609\n",
            "Epoch 95/100\n",
            "7/7 [==============================] - 0s 7ms/step - loss: 2.6080 - val_loss: 3.2207\n",
            "Epoch 96/100\n",
            "7/7 [==============================] - 0s 10ms/step - loss: 2.9894 - val_loss: 3.0577\n",
            "Epoch 97/100\n",
            "7/7 [==============================] - 0s 10ms/step - loss: 2.6752 - val_loss: 3.3198\n",
            "Epoch 98/100\n",
            "7/7 [==============================] - 0s 10ms/step - loss: 2.7734 - val_loss: 2.9585\n",
            "Epoch 99/100\n",
            "7/7 [==============================] - 0s 7ms/step - loss: 2.6463 - val_loss: 2.9684\n",
            "Epoch 100/100\n",
            "7/7 [==============================] - 0s 11ms/step - loss: 2.6277 - val_loss: 3.1016\n"
          ]
        },
        {
          "output_type": "execute_result",
          "data": {
            "text/plain": [
              "<keras.src.callbacks.History at 0x799aeca0e530>"
            ]
          },
          "metadata": {},
          "execution_count": 150
        }
      ]
    },
    {
      "cell_type": "code",
      "source": [
        "loss = model.evaluate(X_test, y_test, verbose=0)\n",
        "print('Test loss:', loss)"
      ],
      "metadata": {
        "colab": {
          "base_uri": "https://localhost:8080/"
        },
        "id": "q-o3GMXayY0B",
        "outputId": "b6a28483-c257-4062-d03f-54b9a9593a31"
      },
      "execution_count": 151,
      "outputs": [
        {
          "output_type": "stream",
          "name": "stdout",
          "text": [
            "Test loss: 3.1016287803649902\n"
          ]
        }
      ]
    },
    {
      "cell_type": "code",
      "source": [
        "y_pred = model.predict(X_test)"
      ],
      "metadata": {
        "colab": {
          "base_uri": "https://localhost:8080/"
        },
        "id": "dNTu9hpRyadZ",
        "outputId": "f7ecbab8-0968-4cd4-e932-81ce001ec197"
      },
      "execution_count": 152,
      "outputs": [
        {
          "output_type": "stream",
          "name": "stdout",
          "text": [
            "2/2 [==============================] - 0s 5ms/step\n"
          ]
        }
      ]
    },
    {
      "cell_type": "code",
      "source": [
        "r2 = r2_score(y_test, y_pred)\n",
        "print('R-squared:', r2)"
      ],
      "metadata": {
        "colab": {
          "base_uri": "https://localhost:8080/"
        },
        "id": "rhPWksCeycE5",
        "outputId": "800f8206-3117-42fb-e9cd-d04b103183f5"
      },
      "execution_count": 153,
      "outputs": [
        {
          "output_type": "stream",
          "name": "stdout",
          "text": [
            "R-squared: 0.6370644011213347\n"
          ]
        }
      ]
    }
  ]
}